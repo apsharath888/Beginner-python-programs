{
 "cells": [
  {
   "cell_type": "markdown",
   "metadata": {},
   "source": [
    "# Multiplication table \n",
    "\n"
   ]
  },
  {
   "cell_type": "code",
   "execution_count": 1,
   "metadata": {},
   "outputs": [
    {
     "name": "stdout",
     "output_type": "stream",
     "text": [
      "Show the multiplication table of? 60\n",
      "60 x 1 = 60\n",
      "60 x 2 = 120\n",
      "60 x 3 = 180\n",
      "60 x 4 = 240\n",
      "60 x 5 = 300\n",
      "60 x 6 = 360\n",
      "60 x 7 = 420\n",
      "60 x 8 = 480\n",
      "60 x 9 = 540\n",
      "60 x 10 = 600\n"
     ]
    }
   ],
   "source": [
    "num = int(input(\"Show the multiplication table of? \"))  \n",
    "# using for loop to iterate multiplication 10 times   \n",
    "for i in range(1,11):  \n",
    "   print(num,'x',i,'=',num*i)  "
   ]
  },
  {
   "cell_type": "code",
   "execution_count": null,
   "metadata": {},
   "outputs": [],
   "source": []
  }
 ],
 "metadata": {
  "kernelspec": {
   "display_name": "Python 3",
   "language": "python",
   "name": "python3"
  },
  "language_info": {
   "codemirror_mode": {
    "name": "ipython",
    "version": 3
   },
   "file_extension": ".py",
   "mimetype": "text/x-python",
   "name": "python",
   "nbconvert_exporter": "python",
   "pygments_lexer": "ipython3",
   "version": "3.8.3"
  }
 },
 "nbformat": 4,
 "nbformat_minor": 4
}
